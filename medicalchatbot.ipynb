{
  "cells": [
    {
      "cell_type": "code",
      "execution_count": null,
      "metadata": {
        "id": "install-libraries"
      },
      "outputs": [],
      "source": [
        "!pip install openai==1.13.3 requests"
      ]
    },
    {
      "cell_type": "code",
      "execution_count": null,
      "metadata": {
        "id": "import-libraries"
      },
      "outputs": [],
      "source": [
        "# Add Azure OpenAI package\n",
        "from openai import AzureOpenAI\n",
        "import requests"
      ]
    },
    {
      "cell_type": "code",
      "execution_count": null,
      "metadata": {
        "id": "set-api-keys"
      },
      "outputs": [],
      "source": [
        "# Set the API Keys, Endpoint and Model Deployment\n",
        "azure_oai_endpoint = \"your OpenAI endpoint\"\n",
        "azure_oai_key = \"your OpenAI Key\"\n",
        "azure_oai_deployment_chat = \"your OpenAI chat model deployment name\"\n",
        "azure_oai_deployment_image = \"your OpenAI image model deployment name\""
      ]
    },
    {
      "cell_type": "code",
      "execution_count": null,
      "metadata": {
        "id": "initialize-client"
      },
      "outputs": [],
      "source": [
        "# Initialize the Azure OpenAI client\n",
        "client = AzureOpenAI(\n",
        "    azure_endpoint=azure_oai_endpoint, \n",
        "    api_key=azure_oai_key,  \n",
        "    api_version=\"2024-02-15-preview\"\n",
        ")"
      ]
    },
    {
      "cell_type": "markdown",
      "metadata": {
        "id": "chat-completion-section"
      },
      "source": [
        "### Chat Completion Function"
      ]
    },
    {
      "cell_type": "code",
      "execution_count": null,
      "metadata": {
        "id": "chat-completion-function"
      },
      "outputs": [],
      "source": [
        "# Function to get chat response from Azure OpenAI\n",
        "def get_chat_response(prompt):\n",
        "    messages_array = [\n",
        "        {\"role\": \"system\", \"content\": \"You are a helpful assistant with medical expertise.\"},\n",
        "        {\"role\": \"user\", \"content\": prompt}\n",
        "    ]\n",
        "    response = client.chat.completions.create(\n",
        "        model=azure_oai_deployment_chat,\n",
        "        temperature=0.7,\n",
        "        max_tokens=400,\n",
        "        messages=messages_array\n",
        "    )\n",
        "    generated_text = response.choices[0].message.content\n",
        "    return generated_text"
      ]
    },
    {
      "cell_type": "markdown",
      "metadata": {
        "id": "image-generation-section"
      },
      "source": [
        "### Image Generation Function"
      ]
    },
    {
      "cell_type": "code",
      "execution_count": null,
      "metadata": {
        "id": "image-generation-function"
      },
      "outputs": [],
      "source": [
        "# Function to generate image from Azure OpenAI\n",
        "def generate_image(prompt):\n",
        "    url = f\"{azure_oai_endpoint}openai/deployments/{azure_oai_deployment_image}/images/generations?api-version=2024-02-15-preview\"\n",
        "    headers= { \"api-key\": azure_oai_key, \"Content-Type\": \"application/json\" }\n",
        "    body = {\n",
        "        \"prompt\": prompt,\n",
        "        \"n\": 1,\n",
        "        \"size\": \"1024x1024\"\n",
        "    }\n",
        "    response = requests.post(url, headers=headers, json=body)\n",
        "    response_json = response.json()\n",
        "    image_url = response_json['data'][0]['url']\n",
        "    return image_url"
      ]
    },
    {
      "cell_type": "markdown",
      "metadata": {
        "id": "chatbot-interaction-section"
      },
      "source": [
        "### Chatbot Interaction"
      ]
    },
    {
      "cell_type": "code",
      "execution_count": null,
      "metadata": {
        "id": "chatbot-interaction"
      },
      "outputs": [],
      "source": [
        "# Example interaction with the chatbot\n",
        "user_input = input(\"Enter your question or prompt: \")\n",
        "response = get_chat_response(user_input)\n",
        "print(\"Chatbot Response: \", response)"
      ]
    },
    {
      "cell_type": "markdown",
      "metadata": {
        "id": "image-generation-interaction-section"
      },
      "source": [
        "### Image Generation Interaction"
      ]
    },
    {
      "cell_type": "code",
      "execution_count": null,
      "metadata": {
        "id": "image-generation-interaction"
      },
      "outputs": [],
      "source": [
        "# Example interaction for image generation\n",
        "image_prompt = input(\"Enter a prompt to generate an image: \")\n",
        "image_url = generate_image(image_prompt)\n",
        "print(\"Generated Image URL: \", image_url)"
      ]
    }
  ],
  "metadata": {
    "colab": {
      "provenance": []
    },
    "kernelspec": {
      "display_name": "Python 3",
      "name": "python3"
    },
    "language_info": {
      "name": "python"
    }
  },
  "nbformat": 4,
  "nbformat_minor": 0
}
